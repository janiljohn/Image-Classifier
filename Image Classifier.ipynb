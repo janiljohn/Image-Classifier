{
  "nbformat": 4,
  "nbformat_minor": 0,
  "metadata": {
    "colab": {
      "provenance": [],
      "gpuType": "T4"
    },
    "kernelspec": {
      "name": "python3",
      "display_name": "Python 3"
    },
    "language_info": {
      "name": "python"
    },
    "accelerator": "GPU"
  },
  "cells": [
    {
      "cell_type": "code",
      "execution_count": null,
      "metadata": {
        "id": "m-tA-u20ryIf"
      },
      "outputs": [],
      "source": [
        "# Imports\n",
        "\n",
        "import tensorflow as tf\n",
        "import keras\n",
        "from keras import datasets, layers, models\n",
        "import matplotlib.pyplot as plt\n",
        "import numpy as np"
      ]
    },
    {
      "cell_type": "code",
      "source": [
        "# Splitting Traning and Test data\n",
        "\n",
        "(x_train, y_train), (x_test, y_test) = tf.keras.datasets.cifar10.load_data()"
      ],
      "metadata": {
        "id": "riqAxsMcr40h",
        "colab": {
          "base_uri": "https://localhost:8080/"
        },
        "outputId": "6b5f88cf-d1eb-4ad6-e55e-62c5e1eb84de"
      },
      "execution_count": null,
      "outputs": [
        {
          "output_type": "stream",
          "name": "stdout",
          "text": [
            "Downloading data from https://www.cs.toronto.edu/~kriz/cifar-10-python.tar.gz\n",
            "170498071/170498071 [==============================] - 6s 0us/step\n"
          ]
        }
      ]
    },
    {
      "cell_type": "code",
      "source": [
        "# Data Preprocessing\n",
        "\n",
        "x_train = x_train / 255.0\n",
        "x_test = x_test / 255.0\n",
        "\n",
        "y_train, y_test = y_train.flatten(), y_test.flatten()"
      ],
      "metadata": {
        "id": "x3w2r4RIr75v"
      },
      "execution_count": null,
      "outputs": []
    },
    {
      "cell_type": "code",
      "source": [
        "# Sequential Model\n",
        "\n",
        "cnn = tf.keras.models.Sequential()\n",
        "\n",
        "# 1\n",
        "cnn.add(tf.keras.layers.Conv2D(filters=32, kernel_size=[3,3], strides = [1, 1], activation='relu', padding='same', input_shape=(32, 32, 3)))\n",
        "cnn.add(tf.keras.layers.BatchNormalization())\n",
        "cnn.add(tf.keras.layers.Conv2D(filters=32, kernel_size=[3,3], strides = [1, 1], activation='relu', padding='same', input_shape=(32, 32, 3)))\n",
        "cnn.add(tf.keras.layers.BatchNormalization())\n",
        "cnn.add(tf.keras.layers.MaxPool2D(pool_size=2, strides=2, padding='valid'))\n",
        "\n",
        "# 2\n",
        "cnn.add(tf.keras.layers.Conv2D(filters=32, kernel_size=[3,3], strides = [1, 1], activation='relu', padding='same', input_shape=(32, 32, 3)))\n",
        "cnn.add(tf.keras.layers.BatchNormalization())\n",
        "cnn.add(tf.keras.layers.Conv2D(filters=32, kernel_size=[3,3], strides = [1, 1], activation='relu', padding='same', input_shape=(32, 32, 3)))\n",
        "cnn.add(tf.keras.layers.BatchNormalization())\n",
        "cnn.add(tf.keras.layers.MaxPool2D(pool_size=2, strides=2, padding='valid'))\n",
        "\n",
        "cnn.add(tf.keras.layers.Flatten())\n",
        "\n",
        "cnn.add(tf.keras.layers.Dropout(rate = 0.2))\n",
        "\n",
        "cnn.add(tf.keras.layers.Dense(units=128, activation='relu'))\n",
        "cnn.add(tf.keras.layers.Dense(units=10, activation='softmax'))"
      ],
      "metadata": {
        "id": "HKvUfL_swe1Q"
      },
      "execution_count": null,
      "outputs": []
    },
    {
      "cell_type": "code",
      "source": [
        "# Compiling\n",
        "\n",
        "cnn.compile(optimizer =\"adam\" , loss = keras.losses.SparseCategoricalCrossentropy(from_logits=True) , metrics = [keras.metrics.SparseCategoricalAccuracy()])"
      ],
      "metadata": {
        "id": "ZAZSHPErsBhJ"
      },
      "execution_count": null,
      "outputs": []
    },
    {
      "cell_type": "code",
      "source": [
        "# Fitting Train History\n",
        "\n",
        "train_history = cnn.fit(x_train, y_train, batch_size=32, epochs=21, validation_split=0.2)"
      ],
      "metadata": {
        "id": "8gt4NXd9sC8o",
        "colab": {
          "base_uri": "https://localhost:8080/"
        },
        "outputId": "169af053-cc4b-4926-fb3f-e2ad239048d3"
      },
      "execution_count": null,
      "outputs": [
        {
          "output_type": "stream",
          "name": "stdout",
          "text": [
            "Epoch 1/21\n"
          ]
        },
        {
          "output_type": "stream",
          "name": "stderr",
          "text": [
            "/usr/local/lib/python3.10/dist-packages/keras/src/backend.py:5729: UserWarning: \"`sparse_categorical_crossentropy` received `from_logits=True`, but the `output` argument was produced by a Softmax activation and thus does not represent logits. Was this intended?\n",
            "  output, from_logits = _get_logits(\n"
          ]
        },
        {
          "output_type": "stream",
          "name": "stdout",
          "text": [
            "1250/1250 [==============================] - 22s 8ms/step - loss: 1.3615 - sparse_categorical_accuracy: 0.5156 - val_loss: 1.1600 - val_sparse_categorical_accuracy: 0.5882\n",
            "Epoch 2/21\n",
            "1250/1250 [==============================] - 8s 6ms/step - loss: 0.9481 - sparse_categorical_accuracy: 0.6612 - val_loss: 1.0215 - val_sparse_categorical_accuracy: 0.6520\n",
            "Epoch 3/21\n",
            "1250/1250 [==============================] - 7s 5ms/step - loss: 0.7853 - sparse_categorical_accuracy: 0.7236 - val_loss: 0.9249 - val_sparse_categorical_accuracy: 0.6914\n",
            "Epoch 4/21\n",
            "1250/1250 [==============================] - 7s 6ms/step - loss: 0.6763 - sparse_categorical_accuracy: 0.7639 - val_loss: 0.8137 - val_sparse_categorical_accuracy: 0.7242\n",
            "Epoch 5/21\n",
            "1250/1250 [==============================] - 7s 6ms/step - loss: 0.5879 - sparse_categorical_accuracy: 0.7915 - val_loss: 0.7825 - val_sparse_categorical_accuracy: 0.7340\n",
            "Epoch 6/21\n",
            "1250/1250 [==============================] - 8s 6ms/step - loss: 0.5130 - sparse_categorical_accuracy: 0.8184 - val_loss: 0.7692 - val_sparse_categorical_accuracy: 0.7453\n",
            "Epoch 7/21\n",
            "1250/1250 [==============================] - 7s 6ms/step - loss: 0.4524 - sparse_categorical_accuracy: 0.8402 - val_loss: 0.8577 - val_sparse_categorical_accuracy: 0.7273\n",
            "Epoch 8/21\n",
            "1250/1250 [==============================] - 8s 6ms/step - loss: 0.3917 - sparse_categorical_accuracy: 0.8613 - val_loss: 0.8526 - val_sparse_categorical_accuracy: 0.7417\n",
            "Epoch 9/21\n",
            "1250/1250 [==============================] - 8s 6ms/step - loss: 0.3464 - sparse_categorical_accuracy: 0.8760 - val_loss: 0.8566 - val_sparse_categorical_accuracy: 0.7477\n",
            "Epoch 10/21\n",
            "1250/1250 [==============================] - 7s 5ms/step - loss: 0.2987 - sparse_categorical_accuracy: 0.8951 - val_loss: 0.8546 - val_sparse_categorical_accuracy: 0.7474\n",
            "Epoch 11/21\n",
            "1250/1250 [==============================] - 8s 6ms/step - loss: 0.2628 - sparse_categorical_accuracy: 0.9068 - val_loss: 0.9458 - val_sparse_categorical_accuracy: 0.7315\n",
            "Epoch 12/21\n",
            "1250/1250 [==============================] - 7s 5ms/step - loss: 0.2475 - sparse_categorical_accuracy: 0.9108 - val_loss: 0.9997 - val_sparse_categorical_accuracy: 0.7387\n",
            "Epoch 13/21\n",
            "1250/1250 [==============================] - 8s 6ms/step - loss: 0.2222 - sparse_categorical_accuracy: 0.9212 - val_loss: 0.9818 - val_sparse_categorical_accuracy: 0.7541\n",
            "Epoch 14/21\n",
            "1250/1250 [==============================] - 9s 7ms/step - loss: 0.2029 - sparse_categorical_accuracy: 0.9286 - val_loss: 0.9964 - val_sparse_categorical_accuracy: 0.7457\n",
            "Epoch 15/21\n",
            "1250/1250 [==============================] - 7s 6ms/step - loss: 0.1895 - sparse_categorical_accuracy: 0.9331 - val_loss: 0.9593 - val_sparse_categorical_accuracy: 0.7593\n",
            "Epoch 16/21\n",
            "1250/1250 [==============================] - 7s 6ms/step - loss: 0.1783 - sparse_categorical_accuracy: 0.9380 - val_loss: 1.1085 - val_sparse_categorical_accuracy: 0.7529\n",
            "Epoch 17/21\n",
            "1250/1250 [==============================] - 7s 5ms/step - loss: 0.1698 - sparse_categorical_accuracy: 0.9396 - val_loss: 0.9880 - val_sparse_categorical_accuracy: 0.7573\n",
            "Epoch 18/21\n",
            "1250/1250 [==============================] - 7s 6ms/step - loss: 0.1478 - sparse_categorical_accuracy: 0.9481 - val_loss: 1.1469 - val_sparse_categorical_accuracy: 0.7555\n",
            "Epoch 19/21\n",
            "1250/1250 [==============================] - 7s 6ms/step - loss: 0.1528 - sparse_categorical_accuracy: 0.9475 - val_loss: 1.1114 - val_sparse_categorical_accuracy: 0.7502\n",
            "Epoch 20/21\n",
            "1250/1250 [==============================] - 7s 6ms/step - loss: 0.1441 - sparse_categorical_accuracy: 0.9504 - val_loss: 1.0943 - val_sparse_categorical_accuracy: 0.7569\n",
            "Epoch 21/21\n",
            "1250/1250 [==============================] - 8s 6ms/step - loss: 0.1349 - sparse_categorical_accuracy: 0.9531 - val_loss: 1.2166 - val_sparse_categorical_accuracy: 0.7459\n"
          ]
        }
      ]
    },
    {
      "cell_type": "code",
      "source": [
        "# Traning Evaluation History\n",
        "\n",
        "evaluate_history = cnn.evaluate(x_test, y_test)"
      ],
      "metadata": {
        "colab": {
          "base_uri": "https://localhost:8080/"
        },
        "id": "gCY45DmT16qH",
        "outputId": "be37cd6e-adb9-469e-ea5d-b35b26730289"
      },
      "execution_count": null,
      "outputs": [
        {
          "output_type": "stream",
          "name": "stdout",
          "text": [
            "313/313 [==============================] - 1s 3ms/step - loss: 1.2521 - sparse_categorical_accuracy: 0.7452\n"
          ]
        }
      ]
    },
    {
      "cell_type": "code",
      "source": [
        "# Plotting Sparse Categorical Accuracy and Loss Results\n",
        "\n",
        "plt.plot(train_history.history['sparse_categorical_accuracy'])\n",
        "plt.title('Sparse Categorical Accuracy')\n",
        "plt.xlabel('Epoch')\n",
        "plt.ylabel('Accuracy')\n",
        "plt.legend(['train'], loc='upper left')\n",
        "plt.show()\n",
        "\n",
        "plt.plot(train_history.history['loss'])\n",
        "plt.title('Loss')\n",
        "plt.xlabel('Epoch')\n",
        "plt.ylabel('Accuracy')\n",
        "plt.legend(['train'], loc='upper left')\n",
        "plt.show()"
      ],
      "metadata": {
        "colab": {
          "base_uri": "https://localhost:8080/",
          "height": 927
        },
        "id": "eZ198zy83c2g",
        "outputId": "e37776f3-51b8-42b2-f319-14a8a60935dd"
      },
      "execution_count": null,
      "outputs": [
        {
          "output_type": "display_data",
          "data": {
            "text/plain": [
              "<Figure size 640x480 with 1 Axes>"
            ],
            "image/png": "[encoded data removed]"
          },
          "metadata": {}
        },
        {
          "output_type": "display_data",
          "data": {
            "text/plain": [
              "<Figure size 640x480 with 1 Axes>"
            ],
            "image/png": "[encoded data removed]"
          },
          "metadata": {}
        }
      ]
    },
    {
      "cell_type": "code",
      "source": [
        "# Computing Confusion Matrix and Accuracy Score\n",
        "\n",
        "y_pred = np.argmax(cnn.predict(x_test), axis = 1)\n",
        "\n",
        "from sklearn.metrics import confusion_matrix, accuracy_score\n",
        "cm = confusion_matrix(y_test, y_pred)\n",
        "print('Confusion Matrix')\n",
        "print(cm)\n",
        "print('Accuracy Score')\n",
        "accuracy_score(y_test, y_pred)"
      ],
      "metadata": {
        "colab": {
          "base_uri": "https://localhost:8080/"
        },
        "id": "dAH12QBk2c9T",
        "outputId": "31bc078f-2fb1-4eeb-8f4e-3880cc1ac5d6"
      },
      "execution_count": null,
      "outputs": [
        {
          "output_type": "stream",
          "name": "stdout",
          "text": [
            "313/313 [==============================] - 2s 5ms/step\n",
            "Confusion Matrix\n",
            "[[685  13 131  13  33   3   9  13  78  22]\n",
            " [ 11 849  14   6   4   5   7   2  30  72]\n",
            " [ 27   4 744  34  75  32  52  17  11   4]\n",
            " [ 17   6 120 536  74 105  72  38  18  14]\n",
            " [  7   7  95  35 735  18  40  44  16   3]\n",
            " [  6   5  84 183  55 574  24  54   9   6]\n",
            " [  4   6  71  41  39  12 810   5   8   4]\n",
            " [ 10   3  43  32  60  34  10 795   5   8]\n",
            " [ 20  24  28   4   9   1   8   2 891  13]\n",
            " [ 22  59  11   5   5   4   4  10  47 833]]\n",
            "Accuracy Score\n"
          ]
        },
        {
          "output_type": "execute_result",
          "data": {
            "text/plain": [
              "0.7452"
            ]
          },
          "metadata": {},
          "execution_count": 9
        }
      ]
    },
    {
      "cell_type": "code",
      "source": [
        "# Classification Report\n",
        "\n",
        "from sklearn.metrics import classification_report\n",
        "\n",
        "labels = [\"airplane\",\"automobile\",\"bird\",\"cat\",\"deer\",\"dog\",\"frog\",\"horse\",\"ship\",\"truck\"]\n",
        "y_pred_classes = [np.argmax(element) for element in y_pred]\n",
        "print(\"Classification Report: \\n\", classification_report(y_test, y_pred, target_names=labels))"
      ],
      "metadata": {
        "colab": {
          "base_uri": "https://localhost:8080/"
        },
        "id": "EScgv1c-ka3i",
        "outputId": "c9425854-e14f-47d9-fb1e-b0aa436cc2f3"
      },
      "execution_count": null,
      "outputs": [
        {
          "output_type": "stream",
          "name": "stdout",
          "text": [
            "Classification Report: \n",
            "               precision    recall  f1-score   support\n",
            "\n",
            "    airplane       0.85      0.69      0.76      1000\n",
            "  automobile       0.87      0.85      0.86      1000\n",
            "        bird       0.55      0.74      0.64      1000\n",
            "         cat       0.60      0.54      0.57      1000\n",
            "        deer       0.67      0.73      0.70      1000\n",
            "         dog       0.73      0.57      0.64      1000\n",
            "        frog       0.78      0.81      0.80      1000\n",
            "       horse       0.81      0.80      0.80      1000\n",
            "        ship       0.80      0.89      0.84      1000\n",
            "       truck       0.85      0.83      0.84      1000\n",
            "\n",
            "    accuracy                           0.75     10000\n",
            "   macro avg       0.75      0.75      0.74     10000\n",
            "weighted avg       0.75      0.75      0.74     10000\n",
            "\n"
          ]
        }
      ]
    }
  ]
}